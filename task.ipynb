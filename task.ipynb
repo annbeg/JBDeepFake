{
  "nbformat": 4,
  "nbformat_minor": 0,
  "metadata": {
    "kernelspec": {
      "name": "python3",
      "display_name": "Python 3"
    },
    "language_info": {
      "codemirror_mode": {
        "name": "ipython",
        "version": 3
      },
      "file_extension": ".py",
      "mimetype": "text/x-python",
      "name": "python",
      "nbconvert_exporter": "python",
      "pygments_lexer": "ipython3",
      "version": "3.7.4"
    },
    "stem_cell": {
      "cell_type": "raw",
      "metadata": {
        "pycharm": {
          "metadata": false
        }
      },
      "source": ""
    },
    "colab": {
      "name": "task.ipynb",
      "provenance": [],
      "collapsed_sections": []
    },
    "accelerator": "GPU",
    "widgets": {
      "application/vnd.jupyter.widget-state+json": {
        "de2dc316270f43b1bbc49adcdd83b21c": {
          "model_module": "@jupyter-widgets/controls",
          "model_name": "HBoxModel",
          "state": {
            "_view_name": "HBoxView",
            "_dom_classes": [],
            "_model_name": "HBoxModel",
            "_view_module": "@jupyter-widgets/controls",
            "_model_module_version": "1.5.0",
            "_view_count": null,
            "_view_module_version": "1.5.0",
            "box_style": "",
            "layout": "IPY_MODEL_fe01be3b68ca47dfad3c477c839f491f",
            "_model_module": "@jupyter-widgets/controls",
            "children": [
              "IPY_MODEL_c40c8eccdef54787aea9ead27fc0a5c2",
              "IPY_MODEL_e1057f520cb345e680814f3754f933b3"
            ]
          }
        },
        "35968f2393cd4b7db2ed6def41c5cc7c": {
          "model_module": "@jupyter-widgets/controls",
          "model_name": "HBoxModel",
          "state": {
            "_view_name": "HBoxView",
            "_dom_classes": [],
            "_model_name": "HBoxModel",
            "_view_module": "@jupyter-widgets/controls",
            "_model_module_version": "1.5.0",
            "_view_count": null,
            "_view_module_version": "1.5.0",
            "box_style": "",
            "layout": "IPY_MODEL_8f5ee90decda4f4db32c282f3ef93ed7",
            "_model_module": "@jupyter-widgets/controls",
            "children": [
              "IPY_MODEL_fc8c96eabde84bf99c819d2af8839e44",
              "IPY_MODEL_bb0c1f34e9d94b23975940ca6c82e802"
            ]
          }
        },
        "986b063be5ef4ce7bc4a8cad6f577336": {
          "model_module": "@jupyter-widgets/controls",
          "model_name": "HBoxModel",
          "state": {
            "_view_name": "HBoxView",
            "_dom_classes": [],
            "_model_name": "HBoxModel",
            "_view_module": "@jupyter-widgets/controls",
            "_model_module_version": "1.5.0",
            "_view_count": null,
            "_view_module_version": "1.5.0",
            "box_style": "",
            "layout": "IPY_MODEL_776b1f26126d4c30b7f881b1d99c4517",
            "_model_module": "@jupyter-widgets/controls",
            "children": [
              "IPY_MODEL_1b11b3175b2949ae9a218b34830c436d",
              "IPY_MODEL_d6a9c07b77754599bb5b78e4e4de6e72"
            ]
          }
        },
        "904f65c5e2dc49cfb117ce769c9a4cbe": {
          "model_module": "@jupyter-widgets/controls",
          "model_name": "HBoxModel",
          "state": {
            "_view_name": "HBoxView",
            "_dom_classes": [],
            "_model_name": "HBoxModel",
            "_view_module": "@jupyter-widgets/controls",
            "_model_module_version": "1.5.0",
            "_view_count": null,
            "_view_module_version": "1.5.0",
            "box_style": "",
            "layout": "IPY_MODEL_3c3e6320156540cf9c444f453b8954d5",
            "_model_module": "@jupyter-widgets/controls",
            "children": [
              "IPY_MODEL_30092070866f42caad8ee54fc27ecd13",
              "IPY_MODEL_c692f714581e4ec9b76797ce2eefee9b"
            ]
          }
        },
        "b8801f30a55c422dac7fcf36aa3504c4": {
          "model_module": "@jupyter-widgets/controls",
          "model_name": "HBoxModel",
          "state": {
            "_view_name": "HBoxView",
            "_dom_classes": [],
            "_model_name": "HBoxModel",
            "_view_module": "@jupyter-widgets/controls",
            "_model_module_version": "1.5.0",
            "_view_count": null,
            "_view_module_version": "1.5.0",
            "box_style": "",
            "layout": "IPY_MODEL_fa9afce8294d45f48c60b29586d4a6ed",
            "_model_module": "@jupyter-widgets/controls",
            "children": [
              "IPY_MODEL_df900ed56241464c9f8c8001f56700a2",
              "IPY_MODEL_d9523e98751a4db0a756d8bd41960a48"
            ]
          }
        },
        "bef995bb81c24e86aa93aeb7fde8485f": {
          "model_module": "@jupyter-widgets/controls",
          "model_name": "HBoxModel",
          "state": {
            "_view_name": "HBoxView",
            "_dom_classes": [],
            "_model_name": "HBoxModel",
            "_view_module": "@jupyter-widgets/controls",
            "_model_module_version": "1.5.0",
            "_view_count": null,
            "_view_module_version": "1.5.0",
            "box_style": "",
            "layout": "IPY_MODEL_2b77b6d0b18a481b96d45eaf6ecb2b0e",
            "_model_module": "@jupyter-widgets/controls",
            "children": [
              "IPY_MODEL_bba999a2936941da8aa1bdfcb25fabaf",
              "IPY_MODEL_8a51b496f3b64c0792d8660e76136e58"
            ]
          }
        },
        "1080f5761c5d4febbc34a87f189d2bc7": {
          "model_module": "@jupyter-widgets/controls",
          "model_name": "HBoxModel",
          "state": {
            "_view_name": "HBoxView",
            "_dom_classes": [],
            "_model_name": "HBoxModel",
            "_view_module": "@jupyter-widgets/controls",
            "_model_module_version": "1.5.0",
            "_view_count": null,
            "_view_module_version": "1.5.0",
            "box_style": "",
            "layout": "IPY_MODEL_1bdc70c77b5244a59602e5aebe7cf3f7",
            "_model_module": "@jupyter-widgets/controls",
            "children": [
              "IPY_MODEL_33c2ee843b43418ca116b00ba77fe702",
              "IPY_MODEL_92ec46236abe4949aeea071baabddfe8"
            ]
          }
        },
        "4f1d5494e5ab4a7bb856266990fa5868": {
          "model_module": "@jupyter-widgets/controls",
          "model_name": "HBoxModel",
          "state": {
            "_view_name": "HBoxView",
            "_dom_classes": [],
            "_model_name": "HBoxModel",
            "_view_module": "@jupyter-widgets/controls",
            "_model_module_version": "1.5.0",
            "_view_count": null,
            "_view_module_version": "1.5.0",
            "box_style": "",
            "layout": "IPY_MODEL_8f5ffb418f474615b28f91c2ea2ee3d4",
            "_model_module": "@jupyter-widgets/controls",
            "children": [
              "IPY_MODEL_c207ba071be6472abe29b479f5aa9895",
              "IPY_MODEL_69ee10892fe142df88523dcc3e40cac7"
            ]
          }
        },
        "fd00406a78d04cdba9d32b1192097945": {
          "model_module": "@jupyter-widgets/controls",
          "model_name": "HBoxModel",
          "state": {
            "_view_name": "HBoxView",
            "_dom_classes": [],
            "_model_name": "HBoxModel",
            "_view_module": "@jupyter-widgets/controls",
            "_model_module_version": "1.5.0",
            "_view_count": null,
            "_view_module_version": "1.5.0",
            "box_style": "",
            "layout": "IPY_MODEL_8a02416bd3774e69a852b2c5feed5944",
            "_model_module": "@jupyter-widgets/controls",
            "children": [
              "IPY_MODEL_146984597b0d4904b5d5755539405e16",
              "IPY_MODEL_2ca9c30a88594c20a26e95746e2b744f"
            ]
          }
        },
        "c44e27438215418c8a8034e6f6a190c2": {
          "model_module": "@jupyter-widgets/controls",
          "model_name": "HBoxModel",
          "state": {
            "_view_name": "HBoxView",
            "_dom_classes": [],
            "_model_name": "HBoxModel",
            "_view_module": "@jupyter-widgets/controls",
            "_model_module_version": "1.5.0",
            "_view_count": null,
            "_view_module_version": "1.5.0",
            "box_style": "",
            "layout": "IPY_MODEL_8d63014b9b2a4e48af76ccfd04a8d638",
            "_model_module": "@jupyter-widgets/controls",
            "children": [
              "IPY_MODEL_9b348186c1cb4fd8a8f7649c4055ff7d",
              "IPY_MODEL_4732d707909d4c5082faf89c486ff0d3"
            ]
          }
        },
        "34f029b3c0014336a9652bfe9ddf44d9": {
          "model_module": "@jupyter-widgets/controls",
          "model_name": "HBoxModel",
          "state": {
            "_view_name": "HBoxView",
            "_dom_classes": [],
            "_model_name": "HBoxModel",
            "_view_module": "@jupyter-widgets/controls",
            "_model_module_version": "1.5.0",
            "_view_count": null,
            "_view_module_version": "1.5.0",
            "box_style": "",
            "layout": "IPY_MODEL_f9f089d9d0014ea3ad63cd5d4ffa4a16",
            "_model_module": "@jupyter-widgets/controls",
            "children": [
              "IPY_MODEL_5d66ee59954c4a86a016aa043193e6e0",
              "IPY_MODEL_bfdbad96b3b44803921e7a85f2586066"
            ]
          }
        }
      }
    }
  },
  "cells": [
    {
      "cell_type": "markdown",
      "metadata": {
        "pycharm": {
          "metadata": false
        },
        "id": "YrkT9sA71LOl",
        "colab_type": "text"
      },
      "source": [
        "# Research Engineer test task"
      ]
    },
    {
      "cell_type": "markdown",
      "metadata": {
        "id": "xEJDwEhK1LOq",
        "colab_type": "text"
      },
      "source": [
        "Dear applicant!\n",
        "We are asking you to implement a thoughtful pipeline for a rather simple toy task.\n",
        "\n",
        "You are given the dataset from the Tiny ImageNet Challenge which is the default final project for Stanford [CS231N](http://cs231n.stanford.edu/) course. It runs similar to the [ImageNet challenge](http://www.image-net.org/challenges/LSVRC/2014/) (ILSVRC). The goal of the original challenge is for you to do as well as possible on the Image Classification problem.\n",
        "\n",
        "Although your goal of this task is **not** just to do as good as possible on the Image Classification problem.\n",
        "We would rather encourage you to demonstrate best practices and your skills of rapid prototyping reliable pipelines.\n",
        "You may want to take a look at Andrej Karpathy's [Recipe for Training Neural Networks\n",
        "](https://karpathy.github.io/2019/04/25/recipe/).\n",
        "\n",
        "We provided you with a simple pytorch baseline. You are free to use it or to design the whole solution from scratch. \n",
        "We are not restricting you with the frameworks, you can install any package you need and organise your files however you want. Just please make sure to provide all the sources, checkpoints, logs, visualisations etc.\n",
        "If you decide to use our platform setup, it is all already taken care of. We will just review the artifacts of your work on our storage. Otherwise it is your responsibility.\n",
        "\n",
        "To add some measurable results to the task, your final goal will be to achieve best accuracy on the provided __test__ split of the Tiny ImageNet dataset.\n",
        "Also you are expected to show all the visualisations you find necessary alongside with the final evaluation metrics. We already took care of a tensorboard setup for you, so you can track some of your plots there. Please follow  [README.md](https://github.com/neuromation/test-task/blob/master/README.md) for instructions. "
      ]
    },
    {
      "cell_type": "code",
      "metadata": {
        "id": "2YkXyMy51LOs",
        "colab_type": "code",
        "colab": {}
      },
      "source": [
        "%%capture\n",
        "\n",
        "from dataclasses import dataclass, replace\n",
        "from pathlib import Path\n",
        "from typing import Callable, List, Optional, Sequence, Union\n",
        "\n",
        "import pandas as pd\n",
        "import torch\n",
        "import os\n",
        "from pandas import DataFrame\n",
        "from PIL import Image\n",
        "from torch.utils.data.dataloader import default_collate\n",
        "from torch.utils.data.dataset import Dataset\n",
        "import sklearn\n",
        "import numpy as np\n",
        "from matplotlib import pyplot as plt\n",
        "\n",
        "import numpy as np\n",
        "from PIL import Image\n",
        "from torchvision import transforms\n",
        "\n",
        "from torchvision import models\n",
        "from torch.nn.modules import loss\n",
        "from torch import optim\n",
        "from torch.utils.tensorboard import SummaryWriter\n",
        "import torch.nn as nn\n",
        "from tqdm.auto import tqdm"
      ],
      "execution_count": 0,
      "outputs": []
    },
    {
      "cell_type": "markdown",
      "metadata": {
        "id": "i51ReJe-1LO2",
        "colab_type": "text"
      },
      "source": [
        "# Getting the data"
      ]
    },
    {
      "cell_type": "code",
      "metadata": {
        "id": "NI9qsHVD1LO5",
        "colab_type": "code",
        "colab": {}
      },
      "source": [
        "DATA_PATH = Path(\"/content/sample_data\")"
      ],
      "execution_count": 0,
      "outputs": []
    },
    {
      "cell_type": "code",
      "metadata": {
        "id": "QFX0DeQy1LPC",
        "colab_type": "code",
        "colab": {}
      },
      "source": [
        "!! wget http://cs231n.stanford.edu/tiny-imagenet-200.zip -O $DATA_PATH/tiny-imagenet-200.zip"
      ],
      "execution_count": 0,
      "outputs": []
    },
    {
      "cell_type": "markdown",
      "metadata": {
        "id": "liShTamt1LPH",
        "colab_type": "text"
      },
      "source": [
        "Unpacking our dataset will take a while, but it will only have to be done once.\n",
        "\n",
        "Be prepared to wait next cell to finish up to 15 minutes"
      ]
    },
    {
      "cell_type": "code",
      "metadata": {
        "id": "hRC8ZB4V1LPI",
        "colab_type": "code",
        "colab": {}
      },
      "source": [
        "!! [ ! -d $DATA_PATH/tiny-imagenet-200 ] && unzip $DATA_PATH/tiny-imagenet-200.zip -d $DATA_PATH"
      ],
      "execution_count": 0,
      "outputs": []
    },
    {
      "cell_type": "markdown",
      "metadata": {
        "id": "leEFDRrB1LPM",
        "colab_type": "text"
      },
      "source": [
        "# Dataset\n",
        "\n",
        "Here is a `TinyImagenetDataset` warpper you might find useful."
      ]
    },
    {
      "cell_type": "code",
      "metadata": {
        "id": "5SvPavQL1LPN",
        "colab_type": "code",
        "colab": {}
      },
      "source": [
        "Transform = Callable[[Image.Image], Image.Image]\n",
        "\n",
        "\n",
        "@dataclass()\n",
        "class ItemsBatch:\n",
        "    images: torch.Tensor\n",
        "    labels: torch.Tensor\n",
        "    ids: List[int]\n",
        "    paths: List[Path]\n",
        "    items: List[\"DatasetItem\"]\n",
        "\n",
        "\n",
        "@dataclass()\n",
        "class DatasetItem:\n",
        "    image: Union[torch.Tensor, Image.Image]\n",
        "    label: int\n",
        "    id: int\n",
        "    path: Path\n",
        "\n",
        "    @classmethod\n",
        "    def collate(cls, items: Sequence[\"DatasetItem\"]) -> ItemsBatch:\n",
        "        if not isinstance(items, list):\n",
        "            items = list(items)\n",
        "        return ItemsBatch(\n",
        "            images=default_collate([item.image for item in items]),\n",
        "            labels=default_collate([item.label for item in items]),\n",
        "            ids=[item.id for item in items],\n",
        "            paths=[item.path for item in items],\n",
        "            items=items,\n",
        "        )"
      ],
      "execution_count": 0,
      "outputs": []
    },
    {
      "cell_type": "code",
      "metadata": {
        "id": "TnMGsCLA1LPP",
        "colab_type": "code",
        "colab": {}
      },
      "source": [
        "#Changed some roots to work in Colab\n",
        "DATA_ROOT = Path(\"/content/sample_data/tiny-imagenet-200\")\n",
        "RESULTS_ROOT = Path(\"/project/results/\")\n",
        "CHECKPOINTS = RESULTS_ROOT / \"checkpoints\"\n",
        "CHECKPOINTS.mkdir(parents=True, exist_ok=True)\n",
        "TENSORBOARD_TAG = \"first_try\"\n",
        "CKPT_NAME = \"first_model.pth\"\n",
        "DEVICE = torch.device(\"cuda\")"
      ],
      "execution_count": 0,
      "outputs": []
    },
    {
      "cell_type": "code",
      "metadata": {
        "id": "YmhXIhu41LPS",
        "colab_type": "code",
        "colab": {}
      },
      "source": [
        "TRAIN_PATH = DATA_ROOT / \"train\"\n",
        "VAL_PATH = DATA_ROOT / \"val\"\n",
        "ALL_FOLDERS = [\n",
        "    dir_name\n",
        "    for r, d, f in os.walk(TRAIN_PATH)\n",
        "    for dir_name in d\n",
        "    if dir_name != \"images\"\n",
        "]\n",
        "FOLDERS_TO_NUM = {val: index for index, val in enumerate(ALL_FOLDERS)}\n",
        "\n",
        "LABELS = pd.read_csv(\n",
        "    DATA_ROOT / \"words.txt\", sep=\"\\t\", header=None, index_col=0)[1].to_dict()\n",
        "VAL_LABELS = pd.read_csv(\n",
        "    DATA_ROOT / \"val\" / \"val_annotations.txt\", sep=\"\\t\", header=None, index_col=0)[1].to_dict()"
      ],
      "execution_count": 0,
      "outputs": []
    },
    {
      "cell_type": "code",
      "metadata": {
        "id": "cFZ8UcCp1LPU",
        "colab_type": "code",
        "colab": {}
      },
      "source": [
        "class TinyImagenetDataset(Dataset):\n",
        "    _transform: Optional[Transform]\n",
        "    _root: Path\n",
        "    _df: DataFrame\n",
        "\n",
        "    def __init__(self, path, transform: Optional[Transform] = None):\n",
        "        self._transform = transform\n",
        "        if not os.path.isdir(path):\n",
        "            raise NotADirectoryError(f\"{path} is not a directory.\")\n",
        "        all_files = [\n",
        "            os.path.join(r, fyle)\n",
        "            for r, d, f in os.walk(path)\n",
        "            for fyle in f\n",
        "            if \".JPEG\" in fyle\n",
        "        ]\n",
        "        labels = [\n",
        "            FOLDERS_TO_NUM.get(\n",
        "                os.path.basename(f).split(\"_\")[0],\n",
        "                FOLDERS_TO_NUM.get(VAL_LABELS.get(os.path.basename(f))),\n",
        "            )\n",
        "            for f in all_files\n",
        "        ]\n",
        "        self._df = pd.DataFrame({\"path\": all_files, \"label\": labels})\n",
        "\n",
        "    def __getitem__(self, index: int) -> DatasetItem:\n",
        "        path, label = self._df.loc[index, :]\n",
        "        image = Image.open(path).convert(\"RGB\")\n",
        "        if self._transform:\n",
        "            image = self._transform(image)\n",
        "        return DatasetItem(image=image, label=label, id=index, path=path)\n",
        "\n",
        "    def __len__(self) -> int:\n",
        "        return len(self._df)"
      ],
      "execution_count": 0,
      "outputs": []
    },
    {
      "cell_type": "markdown",
      "metadata": {
        "id": "PH0SdBPX1LPW",
        "colab_type": "text"
      },
      "source": [
        "# Training loop\n",
        "\n",
        "This is a very basic training pipeline intended to rid you of writing too much boilerplate code"
      ]
    },
    {
      "cell_type": "code",
      "metadata": {
        "id": "lwvEXS_C1LPX",
        "colab_type": "code",
        "colab": {}
      },
      "source": [
        "import PIL\n",
        "transform = transforms.Compose(\n",
        "    [   \n",
        "        # Some augmentations did not work\n",
        "     \n",
        "        # transforms.RandomResizedCrop(224),\n",
        "        # transforms.ColorJitter(hue=.20, saturation=.20),\n",
        "        transforms.RandomHorizontalFlip(),\n",
        "        # transforms.RandomVerticalFlip(),\n",
        "        # transforms.RandomRotation(10, resample=PIL.Image.BILINEAR),\n",
        "        transforms.ToTensor(),\n",
        "        transforms.Normalize([0.485, 0.456, 0.406], [0.229, 0.224, 0.225]),\n",
        "    ]\n",
        ")\n",
        "\n",
        "train_dataset = TinyImagenetDataset(DATA_ROOT / \"train\", transform)\n",
        "train_loader = torch.utils.data.DataLoader(\n",
        "    train_dataset,\n",
        "    batch_size=256,\n",
        "    shuffle=True,\n",
        "    collate_fn=DatasetItem.collate,\n",
        "    num_workers=4,\n",
        ")\n",
        "\n",
        "test_dataset = TinyImagenetDataset(DATA_ROOT / \"val\" / \"images\", transform)\n",
        "test_loader = torch.utils.data.DataLoader(\n",
        "    test_dataset,\n",
        "    batch_size=256,\n",
        "    shuffle=True,\n",
        "    collate_fn=DatasetItem.collate,\n",
        "    num_workers=4,\n",
        ")"
      ],
      "execution_count": 0,
      "outputs": []
    },
    {
      "cell_type": "code",
      "metadata": {
        "id": "DbqCD82lgE9h",
        "colab_type": "code",
        "outputId": "56334157-d837-4e2c-a4af-cf26754150ee",
        "colab": {
          "base_uri": "https://localhost:8080/",
          "height": 34
        }
      },
      "source": [
        "torch.cuda.is_available()\n",
        "# DEVICE"
      ],
      "execution_count": 8,
      "outputs": [
        {
          "output_type": "execute_result",
          "data": {
            "text/plain": [
              "True"
            ]
          },
          "metadata": {
            "tags": []
          },
          "execution_count": 8
        }
      ]
    },
    {
      "cell_type": "markdown",
      "metadata": {
        "id": "MWkTwcifPm3v",
        "colab_type": "text"
      },
      "source": [
        "#Training"
      ]
    },
    {
      "cell_type": "code",
      "metadata": {
        "id": "bpt6XNWXPxx3",
        "colab_type": "code",
        "colab": {}
      },
      "source": [
        "def train(model, device, train_loader, optimizer, loss_function, epoch, writer, scheduler):\n",
        "    model.train()\n",
        "    model.to(device)\n",
        "    correct = 0\n",
        "    for batch_idx, batch_data in enumerate(tqdm(train_loader)):\n",
        "        data, target = batch_data.images.to(device), batch_data.labels.to(device)\n",
        "        optimizer.zero_grad()\n",
        "        output = model(data)\n",
        "        loss = loss_function(output, target)\n",
        "        loss.backward()\n",
        "        optimizer.step()\n",
        "        pred = output.argmax(dim=1, keepdim=True)\n",
        "        correct += pred.eq(target.view_as(pred)).sum().item()\n",
        "    print(\n",
        "        \"Train Epoch: {} [ ({:.0f}%)]\\tLoss: {:.6f}\".format(\n",
        "            epoch, 100.0 * correct / len(train_loader.dataset), loss.item()\n",
        "        )\n",
        "    )\n",
        "\n",
        "    #Added scheduler\n",
        "    scheduler.step()\n",
        "    print(\"scheduler step\")\n",
        "    writer.add_scalar(\"train_loss_plot\", loss.item(), global_step=epoch)\n",
        "    writer.add_scalar(\n",
        "        \"train_accuracy_plot\",\n",
        "        100.0 * correct / len(train_loader.dataset),\n",
        "        global_step=epoch,\n",
        "    )\n",
        "\n",
        "\n",
        "def test(model, device, test_loader, loss_function, epoch, writer):\n",
        "    model.eval()\n",
        "    model.to(device)\n",
        "    test_loss = 0\n",
        "    correct = 0\n",
        "    with torch.no_grad():\n",
        "        for idx, batch_data in enumerate(tqdm(test_loader)):\n",
        "            data, target = batch_data.images.to(device), batch_data.labels.to(device)\n",
        "            output = model(data)\n",
        "            test_loss += loss_function(output, target).sum().item()\n",
        "            pred = output.argmax(dim=1, keepdim=True)\n",
        "            correct += pred.eq(target.view_as(pred)).sum().item()\n",
        "\n",
        "    test_loss /= len(test_loader.dataset)\n",
        "\n",
        "    print(\n",
        "        \"\\nTest set: Average loss: {:.4f}, Accuracy: {}/{} ({:.0f}%)\\n\".format(\n",
        "            test_loss,\n",
        "            correct,\n",
        "            len(test_loader.dataset),\n",
        "            100.0 * correct / len(test_loader.dataset),\n",
        "        )\n",
        "    )\n",
        "    writer.add_scalar(\"test_loss_plot\", test_loss, global_step=epoch)\n",
        "    writer.add_scalar(\n",
        "        \"test_accuracy_plot\",\n",
        "        100.0 * correct / len(test_loader.dataset),\n",
        "        global_step=epoch,\n",
        "    )"
      ],
      "execution_count": 0,
      "outputs": []
    },
    {
      "cell_type": "code",
      "metadata": {
        "id": "6rEl4-GrPx3f",
        "colab_type": "code",
        "colab": {}
      },
      "source": [
        "from torch.optim import lr_scheduler\n",
        "model = models.resnet18(pretrained=True)\n",
        "\n",
        "\n",
        "model.fc = nn.Linear(512, 200)\n",
        "\n",
        "model = model.to(DEVICE)\n",
        "\n",
        "loss_function = loss.CrossEntropyLoss()\n",
        "\n",
        "#Change the optimizer\n",
        "optimizer_conv = optim.Adam(model.fc.parameters(), lr=0.001)\n",
        "\n",
        "# Optimizing the last layers with different lr\n",
        "optimizer_conv.add_param_group({'params': model.layer4.parameters(),'lr': 0.0001})\n",
        "optimizer_conv.add_param_group({'params': model.layer3.parameters(),'lr': 0.0001})\n",
        "optimizer_conv.add_param_group({'params': model.layer2.parameters(),'lr': 0.00001})\n",
        "\n",
        "\n",
        "# Decay LR by a factor of 0.1 every 2 epochs\n",
        "scheduler = lr_scheduler.StepLR(optimizer_conv, step_size=2, gamma=0.1)\n",
        "\n"
      ],
      "execution_count": 0,
      "outputs": []
    },
    {
      "cell_type": "code",
      "metadata": {
        "id": "rfDQ2Qo_Px9U",
        "colab_type": "code",
        "outputId": "2867b986-e6ad-4d21-e253-e74a6000501f",
        "colab": {
          "base_uri": "https://localhost:8080/",
          "height": 442,
          "referenced_widgets": [
            "de2dc316270f43b1bbc49adcdd83b21c",
            "35968f2393cd4b7db2ed6def41c5cc7c",
            "986b063be5ef4ce7bc4a8cad6f577336",
            "904f65c5e2dc49cfb117ce769c9a4cbe",
            "b8801f30a55c422dac7fcf36aa3504c4",
            "bef995bb81c24e86aa93aeb7fde8485f",
            "1080f5761c5d4febbc34a87f189d2bc7",
            "4f1d5494e5ab4a7bb856266990fa5868",
            "fd00406a78d04cdba9d32b1192097945",
            "c44e27438215418c8a8034e6f6a190c2"
          ]
        }
      },
      "source": [
        "model = model.to(DEVICE)\n",
        "for epoch in range(5):\n",
        "    writer = SummaryWriter(RESULTS_ROOT / TENSORBOARD_TAG)\n",
        "\n",
        "    train(model, DEVICE, train_loader, optimizer_conv, loss_function, epoch, writer,scheduler)\n",
        "    test(model, DEVICE, test_loader, loss_function, epoch, writer)\n",
        "    writer.close()"
      ],
      "execution_count": 25,
      "outputs": [
        {
          "output_type": "display_data",
          "data": {
            "application/vnd.jupyter.widget-view+json": {
              "model_id": "de2dc316270f43b1bbc49adcdd83b21c",
              "version_minor": 0,
              "version_major": 2
            },
            "text/plain": [
              "HBox(children=(IntProgress(value=0, max=391), HTML(value='')))"
            ]
          },
          "metadata": {
            "tags": []
          }
        },
        {
          "output_type": "stream",
          "text": [
            "Train Epoch: 0 [ (39%)]\tLoss: 2.428924\n",
            "scheduler step\n"
          ],
          "name": "stdout"
        },
        {
          "output_type": "display_data",
          "data": {
            "application/vnd.jupyter.widget-view+json": {
              "model_id": "35968f2393cd4b7db2ed6def41c5cc7c",
              "version_minor": 0,
              "version_major": 2
            },
            "text/plain": [
              "HBox(children=(IntProgress(value=0, max=40), HTML(value='')))"
            ]
          },
          "metadata": {
            "tags": []
          }
        },
        {
          "output_type": "stream",
          "text": [
            "\n",
            "Test set: Average loss: 0.0083, Accuracy: 4860/10000 (49%)\n",
            "\n"
          ],
          "name": "stdout"
        },
        {
          "output_type": "display_data",
          "data": {
            "application/vnd.jupyter.widget-view+json": {
              "model_id": "986b063be5ef4ce7bc4a8cad6f577336",
              "version_minor": 0,
              "version_major": 2
            },
            "text/plain": [
              "HBox(children=(IntProgress(value=0, max=391), HTML(value='')))"
            ]
          },
          "metadata": {
            "tags": []
          }
        },
        {
          "output_type": "stream",
          "text": [
            "Train Epoch: 1 [ (57%)]\tLoss: 1.922032\n",
            "scheduler step\n"
          ],
          "name": "stdout"
        },
        {
          "output_type": "display_data",
          "data": {
            "application/vnd.jupyter.widget-view+json": {
              "model_id": "904f65c5e2dc49cfb117ce769c9a4cbe",
              "version_minor": 0,
              "version_major": 2
            },
            "text/plain": [
              "HBox(children=(IntProgress(value=0, max=40), HTML(value='')))"
            ]
          },
          "metadata": {
            "tags": []
          }
        },
        {
          "output_type": "stream",
          "text": [
            "\n",
            "Test set: Average loss: 0.0077, Accuracy: 5213/10000 (52%)\n",
            "\n"
          ],
          "name": "stdout"
        },
        {
          "output_type": "display_data",
          "data": {
            "application/vnd.jupyter.widget-view+json": {
              "model_id": "b8801f30a55c422dac7fcf36aa3504c4",
              "version_minor": 0,
              "version_major": 2
            },
            "text/plain": [
              "HBox(children=(IntProgress(value=0, max=391), HTML(value='')))"
            ]
          },
          "metadata": {
            "tags": []
          }
        },
        {
          "output_type": "stream",
          "text": [
            "Train Epoch: 2 [ (69%)]\tLoss: 1.149415\n",
            "scheduler step\n"
          ],
          "name": "stdout"
        },
        {
          "output_type": "display_data",
          "data": {
            "application/vnd.jupyter.widget-view+json": {
              "model_id": "bef995bb81c24e86aa93aeb7fde8485f",
              "version_minor": 0,
              "version_major": 2
            },
            "text/plain": [
              "HBox(children=(IntProgress(value=0, max=40), HTML(value='')))"
            ]
          },
          "metadata": {
            "tags": []
          }
        },
        {
          "output_type": "stream",
          "text": [
            "\n",
            "Test set: Average loss: 0.0074, Accuracy: 5434/10000 (54%)\n",
            "\n"
          ],
          "name": "stdout"
        },
        {
          "output_type": "display_data",
          "data": {
            "application/vnd.jupyter.widget-view+json": {
              "model_id": "1080f5761c5d4febbc34a87f189d2bc7",
              "version_minor": 0,
              "version_major": 2
            },
            "text/plain": [
              "HBox(children=(IntProgress(value=0, max=391), HTML(value='')))"
            ]
          },
          "metadata": {
            "tags": []
          }
        },
        {
          "output_type": "stream",
          "text": [
            "Train Epoch: 3 [ (71%)]\tLoss: 1.074501\n",
            "scheduler step\n"
          ],
          "name": "stdout"
        },
        {
          "output_type": "display_data",
          "data": {
            "application/vnd.jupyter.widget-view+json": {
              "model_id": "4f1d5494e5ab4a7bb856266990fa5868",
              "version_minor": 0,
              "version_major": 2
            },
            "text/plain": [
              "HBox(children=(IntProgress(value=0, max=40), HTML(value='')))"
            ]
          },
          "metadata": {
            "tags": []
          }
        },
        {
          "output_type": "stream",
          "text": [
            "\n",
            "Test set: Average loss: 0.0074, Accuracy: 5470/10000 (55%)\n",
            "\n"
          ],
          "name": "stdout"
        },
        {
          "output_type": "display_data",
          "data": {
            "application/vnd.jupyter.widget-view+json": {
              "model_id": "fd00406a78d04cdba9d32b1192097945",
              "version_minor": 0,
              "version_major": 2
            },
            "text/plain": [
              "HBox(children=(IntProgress(value=0, max=391), HTML(value='')))"
            ]
          },
          "metadata": {
            "tags": []
          }
        },
        {
          "output_type": "stream",
          "text": [
            "Train Epoch: 4 [ (73%)]\tLoss: 1.186739\n",
            "scheduler step\n"
          ],
          "name": "stdout"
        },
        {
          "output_type": "display_data",
          "data": {
            "application/vnd.jupyter.widget-view+json": {
              "model_id": "c44e27438215418c8a8034e6f6a190c2",
              "version_minor": 0,
              "version_major": 2
            },
            "text/plain": [
              "HBox(children=(IntProgress(value=0, max=40), HTML(value='')))"
            ]
          },
          "metadata": {
            "tags": []
          }
        },
        {
          "output_type": "stream",
          "text": [
            "\n",
            "Test set: Average loss: 0.0073, Accuracy: 5473/10000 (55%)\n",
            "\n"
          ],
          "name": "stdout"
        }
      ]
    },
    {
      "cell_type": "markdown",
      "metadata": {
        "id": "0RRTCNLh1LPg",
        "colab_type": "text"
      },
      "source": [
        "# Visualisation\n",
        "\n",
        "Here is also a confusion matrix plot for you"
      ]
    },
    {
      "cell_type": "code",
      "metadata": {
        "id": "myEZLG4e1LPg",
        "colab_type": "code",
        "colab": {}
      },
      "source": [
        "import sklearn\n",
        "import numpy as np\n",
        "from matplotlib import pyplot as plt"
      ],
      "execution_count": 0,
      "outputs": []
    },
    {
      "cell_type": "code",
      "metadata": {
        "id": "dM5nA8G81LPi",
        "colab_type": "code",
        "outputId": "c988f118-f4a6-47a3-a9b1-4eaf0f3c4471",
        "colab": {
          "base_uri": "https://localhost:8080/",
          "height": 17,
          "referenced_widgets": [
            "34f029b3c0014336a9652bfe9ddf44d9"
          ]
        }
      },
      "source": [
        "total_correct = 0\n",
        "total_images = 0\n",
        "confusion_matrix = np.zeros([200, 200], int)\n",
        "\n",
        "with torch.no_grad():\n",
        "    for item in tqdm(test_loader):\n",
        "        images, labels = item.images.to(DEVICE), item.labels.to(DEVICE)\n",
        "        outputs = model(images)\n",
        "        _, predicted = torch.max(outputs.data, 1)\n",
        "\n",
        "        total_images += labels.size(0)\n",
        "        total_correct += (predicted == labels).sum().item()\n",
        "        for i, l in enumerate(labels):\n",
        "            confusion_matrix[l.item(), predicted[i].item()] += 1"
      ],
      "execution_count": 27,
      "outputs": [
        {
          "output_type": "display_data",
          "data": {
            "application/vnd.jupyter.widget-view+json": {
              "model_id": "34f029b3c0014336a9652bfe9ddf44d9",
              "version_minor": 0,
              "version_major": 2
            },
            "text/plain": [
              "HBox(children=(IntProgress(value=0, max=40), HTML(value='')))"
            ]
          },
          "metadata": {
            "tags": []
          }
        }
      ]
    },
    {
      "cell_type": "code",
      "metadata": {
        "id": "KC3g3MHk1LPl",
        "colab_type": "code",
        "outputId": "e26741ca-2d83-48b2-fb33-002e2a813c11",
        "colab": {
          "base_uri": "https://localhost:8080/",
          "height": 703
        }
      },
      "source": [
        "plt.figure(figsize=(12, 12))\n",
        "plt.imshow(confusion_matrix, cmap=\"gist_heat\", interpolation=\"nearest\")\n",
        "plt.show()"
      ],
      "execution_count": 28,
      "outputs": [
        {
          "output_type": "display_data",
          "data": {
            "image/png": "[encoded data removed]",
            "text/plain": [
              "<Figure size 864x864 with 1 Axes>"
            ]
          },
          "metadata": {
            "tags": []
          }
        }
      ]
    }
  ]
}